{
  "cells": [
    {
      "cell_type": "markdown",
      "metadata": {},
      "source": [
        "# Ex - GroupBy"
      ]
    },
    {
      "cell_type": "markdown",
      "metadata": {},
      "source": [
        "### 简介：\n\nGroupBy（分组操作）可以概括为\"拆分-应用-合并\"三个步骤。\n\n特别鸣谢：https://github.com/justmarkham 提供数据集和相关资料。\n\n查看这张[示意图](http://i.imgur.com/yjNkiwL.png)  \n### 第一步：导入必要的库"
      ]
    },
    {
      "cell_type": "code",
      "execution_count": null,
      "metadata": {},
      "outputs": [],
      "source": []
    },
    {
      "cell_type": "markdown",
      "metadata": {},
      "source": [
        "### 步骤 2. 从该[地址](https://raw.githubusercontent.com/justmarkham/DAT8/master/data/drinks.csv)导入数据集。"
      ]
    },
    {
      "cell_type": "markdown",
      "metadata": {},
      "source": [
        "### 步骤3. 将其赋值给名为 drinks 的变量"
      ]
    },
    {
      "cell_type": "code",
      "execution_count": null,
      "metadata": {},
      "outputs": [],
      "source": []
    },
    {
      "cell_type": "markdown",
      "metadata": {},
      "source": [
        "### 步骤4. 哪个大洲的啤酒平均消费量更高？"
      ]
    },
    {
      "cell_type": "code",
      "execution_count": null,
      "metadata": {},
      "outputs": [],
      "source": []
    },
    {
      "cell_type": "markdown",
      "metadata": {},
      "source": [
        "### 步骤5. 为每个大洲打印葡萄酒消费统计数据"
      ]
    },
    {
      "cell_type": "code",
      "execution_count": null,
      "metadata": {},
      "outputs": [],
      "source": []
    },
    {
      "cell_type": "markdown",
      "metadata": {},
      "source": [
        "### 步骤6. 打印每个大洲各列的平均酒精消费量"
      ]
    },
    {
      "cell_type": "code",
      "execution_count": null,
      "metadata": {},
      "outputs": [],
      "source": []
    },
    {
      "cell_type": "markdown",
      "metadata": {},
      "source": [
        "### 步骤7. 为每个大洲的每列数据打印酒精消费量的中位数"
      ]
    },
    {
      "cell_type": "code",
      "execution_count": null,
      "metadata": {},
      "outputs": [],
      "source": []
    },
    {
      "cell_type": "markdown",
      "metadata": {},
      "source": [
        "### 步骤8. 打印烈酒消费的平均值、最小值和最大值\n#### 本次输出一个DataFrame（数据框）\n\n（说明：1. 保留了专业术语\"DataFrame\"并添加中文注释；2. 将\"spirit consumption\"译为行业通用译法\"烈酒消费\"；3. 保持原有Markdown标题层级格式；4. \"This time\"根据上下文灵活处理为\"本次\"）"
      ]
    },
    {
      "cell_type": "code",
      "execution_count": null,
      "metadata": {},
      "outputs": [],
      "source": []
    }
  ],
  "metadata": {
    "kernelspec": {
      "display_name": "Python 2",
      "language": "python",
      "name": "python2"
    },
    "language_info": {
      "codemirror_mode": {
        "name": "ipython",
        "version": 2
      },
      "file_extension": ".py",
      "mimetype": "text/x-python",
      "name": "python",
      "nbconvert_exporter": "python",
      "pygments_lexer": "ipython2",
      "version": "2.7.16"
    }
  },
  "nbformat": 4,
  "nbformat_minor": 0
}