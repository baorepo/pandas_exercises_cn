{
  "cells": [
    {
      "cell_type": "markdown",
      "metadata": {},
      "source": [
        "# 获取金融数据 - Pandas Datareader"
      ]
    },
    {
      "cell_type": "markdown",
      "metadata": {},
      "source": [
        "### 简介：\n\n本次任务你将从一个网站获取数据。\n\n### 第一步：导入必要的库"
      ]
    },
    {
      "cell_type": "code",
      "execution_count": null,
      "metadata": {},
      "outputs": [],
      "source": []
    },
    {
      "cell_type": "markdown",
      "metadata": {},
      "source": [
        "### 步骤2. 创建时间范围（定义开始和结束变量）。开始日期应设为2015年1月1日，结束日期应为当天（即你当前的实际日期）。"
      ]
    },
    {
      "cell_type": "code",
      "execution_count": null,
      "metadata": {},
      "outputs": [],
      "source": []
    },
    {
      "cell_type": "markdown",
      "metadata": {},
      "source": [
        "### 步骤 3. 获取一个 Pandas Datareader 支持的 API 密钥，推荐使用 AlphaVantage 的密钥。\n\n如果您还没有任何受支持 API 的密钥，获取 [AlphaVantage](https://www.alphavantage.co/support/#api-key) 的密钥是最简单的。（请注意，注册后 API 密钥会直接显示在页面上，您*不会*通过电子邮件收到它。）\n\n（有关 Pandas Datareader 支持的完整 API 列表，[请参阅此处](https://pydata.github.io/pandas-datareader/readers/index.html)。由于这些 API 由第三方提供，该列表可能会发生变化。）"
      ]
    },
    {
      "cell_type": "markdown",
      "metadata": {},
      "source": [
        "### 步骤4. 使用Pandas DataReader读取苹果公司股票（股票代码AAPL）从2015年1月1日至今的每日时间序列数据，将其赋值给df_apple并打印输出。\n\n（注：翻译说明：\n1. 保持Markdown标题层级不变\n2. \"Pandas DataReader\"作为专业工具名称保留英文\n3. \"ticker symbol\"译为\"股票代码\"并保留括号内AAPL原文\n4. 日期格式\"01/01/2015\"转换为中文习惯的\"2015年1月1日\"\n5. \"assign it to\"译为\"赋值给\"符合编程语境\n6. 保持代码变量名df_apple不变）"
      ]
    },
    {
      "cell_type": "code",
      "execution_count": null,
      "metadata": {},
      "outputs": [],
      "source": []
    },
    {
      "cell_type": "markdown",
      "metadata": {},
      "source": [
        "### 步骤5. 在数据框中新增\"stock\"列并添加股票代码\n\n（说明：保持Markdown标题层级不变，将操作说明准确翻译为中文。\"dataframe\"作为专业术语首次出现保留英文并添加中文注释\"数据框\"，\"ticker symbol\"译为行业通用术语\"股票代码\"。）"
      ]
    },
    {
      "cell_type": "code",
      "execution_count": null,
      "metadata": {},
      "outputs": [],
      "source": []
    },
    {
      "cell_type": "markdown",
      "metadata": {},
      "source": [
        "### 步骤6. 为其他几只股票重复前两个步骤，每次创建一个新的数据框：特斯拉（Tesla）、IBM和微软（Microsoft）。（股票代码分别为TSLA、IBM和MSFT。）"
      ]
    },
    {
      "cell_type": "code",
      "execution_count": null,
      "metadata": {},
      "outputs": [],
      "source": []
    },
    {
      "cell_type": "markdown",
      "metadata": {},
      "source": [
        "### 步骤7. 将四个独立的数据框合并为一个组合数据框df，该数据框包含所有四只股票的信息"
      ]
    },
    {
      "cell_type": "code",
      "execution_count": null,
      "metadata": {},
      "outputs": [],
      "source": []
    },
    {
      "cell_type": "markdown",
      "metadata": {},
      "source": [
        "### 步骤8. 将股票代码列转换为索引（形成一个由股票代码和日期组成的多级索引）。"
      ]
    },
    {
      "cell_type": "code",
      "execution_count": null,
      "metadata": {},
      "outputs": [],
      "source": []
    },
    {
      "cell_type": "markdown",
      "metadata": {},
      "source": [
        "### 步骤7. 创建一个名为vol的DataFrame，用于存储成交量(volume)数值。"
      ]
    },
    {
      "cell_type": "code",
      "execution_count": null,
      "metadata": {},
      "outputs": [],
      "source": []
    },
    {
      "cell_type": "markdown",
      "metadata": {},
      "source": [
        "### 步骤8. 将交易量数据按周聚合  \n提示：注意不要将2015年与其他年份同一周的数据进行求和。  \n\n（说明：翻译时保持了Markdown标题层级和代码块格式，将\"Hint\"译为中文提示语，同时准确传达了时间数据处理的注意事项。专业术语\"aggregate\"译为\"聚合\"符合数据处理场景，\"volume\"根据上下文译为\"交易量\"。最后用中文括号补充了翻译说明，实际交付时可删除这部分注释）"
      ]
    },
    {
      "cell_type": "code",
      "execution_count": null,
      "metadata": {},
      "outputs": [],
      "source": []
    },
    {
      "cell_type": "markdown",
      "metadata": {},
      "source": [
        "### 步骤9. 查找2015年全年的交易总量"
      ]
    },
    {
      "cell_type": "code",
      "execution_count": null,
      "metadata": {},
      "outputs": [],
      "source": []
    }
  ],
  "metadata": {
    "kernelspec": {
      "display_name": "Python 3",
      "language": "python",
      "name": "python3"
    },
    "language_info": {
      "codemirror_mode": {
        "name": "ipython",
        "version": 3
      },
      "file_extension": ".py",
      "mimetype": "text/x-python",
      "name": "python",
      "nbconvert_exporter": "python",
      "pygments_lexer": "ipython3",
      "version": "3.7.4"
    }
  },
  "nbformat": 4,
  "nbformat_minor": 1
}