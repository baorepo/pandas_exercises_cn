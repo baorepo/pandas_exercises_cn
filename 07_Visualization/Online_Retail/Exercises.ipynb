{
  "cells": [
    {
      "cell_type": "markdown",
      "metadata": {},
      "source": [
        "# 在线零售购买"
      ]
    },
    {
      "cell_type": "markdown",
      "metadata": {},
      "source": [
        "### 简介:"
      ]
    },
    {
      "cell_type": "code",
      "execution_count": null,
      "metadata": {},
      "outputs": [],
      "source": []
    },
    {
      "cell_type": "markdown",
      "metadata": {},
      "source": [
        "### 第二步：从该[地址](https://raw.githubusercontent.com/guipsamora/pandas_exercises/master/07_Visualization/Online_Retail/Online_Retail.csv)导入数据集。"
      ]
    },
    {
      "cell_type": "markdown",
      "metadata": {},
      "source": [
        "### 步骤 3. 将其赋值给名为 online_rt 的变量  \n注意：如果遇到 utf-8 解码错误，请在 `pd.read_csv()` 中设置 `encoding = 'latin1'`。  \n\n（翻译说明：  \n1. 保留代码格式和变量名不变  \n2. \"Note\" 译为行业通用的\"注意\"提示语  \n3. 技术参数 `utf-8` 和 `latin1` 保持原样  \n4. 函数调用格式 `pd.read_csv()` 完整保留  \n5. 使用中文标点符号）"
      ]
    },
    {
      "cell_type": "code",
      "execution_count": null,
      "metadata": {},
      "outputs": [],
      "source": []
    },
    {
      "cell_type": "markdown",
      "metadata": {},
      "source": [
        "### 步骤4. 创建一个直方图，展示除英国外订单'数量(Quantity)'最多的10个国家"
      ]
    },
    {
      "cell_type": "code",
      "execution_count": null,
      "metadata": {},
      "outputs": [],
      "source": []
    },
    {
      "cell_type": "markdown",
      "metadata": {},
      "source": [
        "### 步骤5. 排除数量为负数的条目"
      ]
    },
    {
      "cell_type": "code",
      "execution_count": null,
      "metadata": {},
      "outputs": [],
      "source": []
    },
    {
      "cell_type": "markdown",
      "metadata": {},
      "source": [
        "### 步骤6. 为前3个国家（英国除外）创建按CustomerID显示UnitPrice对应Quantity的散点图\n\n（说明：翻译说明：\n1. 保持Markdown标题层级不变\n2. \"scatterplot\"译为专业术语\"散点图\"\n3. \"Quantity per UnitPrice\"译为\"UnitPrice对应Quantity\"，更符合中文图表描述习惯\n4. 括号保持中文全角格式\n5. 补充说明：这是数据分析可视化中的常见操作，要求排除英国数据后对消费量前三国家进行单价与数量的分布关系可视化）"
      ]
    },
    {
      "cell_type": "code",
      "execution_count": null,
      "metadata": {},
      "outputs": [],
      "source": []
    },
    {
      "cell_type": "markdown",
      "metadata": {},
      "source": [
        "### 步骤7. 探究为何先前的结果如此缺乏信息量\n\n这部分内容可能看起来有些繁琐。但我将其视为模拟处理数据及与他人协作时可能遇到问题的某种演练。此外，章节末尾还准备了奖励（即第8节内容）。\n\n（当然，如果你想直接跳到第8节也可以——该部分内容不要求你完成本节的阅读。）\n\n#### 步骤7.1 查看第6节代码的第一行，尝试分析它是否会导致某些问题\n##### 步骤7.1.1 显示该DataFrame的前几行数据\n\n（注：翻译时保留了\"DataFrame\"这一专业术语的英文原词，因其在数据处理领域已被广泛接受。中文可补充称为\"数据框\"或\"数据帧\"，但技术文档中通常直接使用英文术语。）"
      ]
    },
    {
      "cell_type": "code",
      "execution_count": null,
      "metadata": {},
      "outputs": [],
      "source": []
    },
    {
      "cell_type": "markdown",
      "metadata": {},
      "source": [
        "##### 步骤 7.1.2 思考这段代码的作用并显示 `UnitPrice` 的数据类型(dtype)"
      ]
    },
    {
      "cell_type": "code",
      "execution_count": null,
      "metadata": {},
      "outputs": [],
      "source": []
    },
    {
      "cell_type": "markdown",
      "metadata": {},
      "source": [
        "##### 步骤 7.1.3 从 `online_rt` 中提取 `CustomerID`（客户ID）为 12346.0 和 12347.0 的数据。"
      ]
    },
    {
      "cell_type": "code",
      "execution_count": null,
      "metadata": {},
      "outputs": [],
      "source": []
    },
    {
      "cell_type": "markdown",
      "metadata": {},
      "source": [
        "#### 步骤7.2 重新解读初始问题\n\n重申我们正在处理的问题：  \n\"创建一个散点图，展示来自Top 3国家（按CustomerID分组）的UnitPrice与Quantity的关系\"\n\n这个问题存在多种理解方式，我们需要消除歧义。\n\n方案一：可以将Top 3国家的所有数据整合到单个图表中呈现  \n方案二：为每个国家单独绘制图表。为了与本练习其他部分保持一致，  \n我们选择后者。这一点就此确定。\n\n但\"Top 3国家\"的评判标准是什么？这里有两个备选维度：  \n1. 总销售量（即销售总件数）  \n2. 总销售额（即营业收入）  \n本练习采用销售量作为标准，因此我们沿用该标准。\n\n##### 步骤7.2.1 找出销售量排名前三的国家"
      ]
    },
    {
      "cell_type": "code",
      "execution_count": null,
      "metadata": {},
      "outputs": [],
      "source": []
    },
    {
      "cell_type": "markdown",
      "metadata": {},
      "source": [
        "##### 步骤 7.2.2\n\n现在我们已经确定了前三个国家，可以聚焦于问题的剩余部分：  \n\"按客户ID统计的单位价格对应数量\"。  \n我们需要拆解这个需求。\n\n\"按客户ID\"这部分比较简单。这意味着我们将在图表中为每个客户ID绘制一个数据点。换句话说，我们需要按客户ID进行分组。\n\n\"单位价格对应数量\"则较为复杂。已知信息如下：  \n* 其中一条轴将表示分配给特定客户的数量。这部分很简单，我们只需绘制每个客户的总数量即可。  \n* 另一条轴将表示分配给特定客户的单价。请注意，单个客户可能有任意数量的订单且价格各异，因此简单汇总价格并无实际意义。此外，\"每个客户的单位价格\"这种表述本身也不够明确——听起来像是在给客户定价！更合理的替代方案是为每个客户计算其购买商品的平均单价。因此我们将采用这种方式解决问题。\n\n#### 步骤 7.3 修改、筛选并绘制数据\n##### 步骤 7.3.1 在online_rt表中添加名为`Revenue`的列，计算每笔交易的收入（数量*单价）\n后续我们将通过该列计算每位客户的平均商品价格。"
      ]
    },
    {
      "cell_type": "code",
      "execution_count": null,
      "metadata": {},
      "outputs": [],
      "source": []
    },
    {
      "cell_type": "markdown",
      "metadata": {},
      "source": [
        "##### 步骤 7.3.2 按 `CustomerID`（客户ID）和 `Country`（国家）分组，并计算每位客户每单位商品的平均消费金额（`AvgPrice`）。"
      ]
    },
    {
      "cell_type": "code",
      "execution_count": null,
      "metadata": {},
      "outputs": [],
      "source": []
    },
    {
      "cell_type": "markdown",
      "metadata": {},
      "source": [
        "##### Step 7.3.3 Plot"
      ]
    },
    {
      "cell_type": "code",
      "execution_count": null,
      "metadata": {},
      "outputs": [],
      "source": []
    },
    {
      "cell_type": "markdown",
      "metadata": {},
      "source": [
        "#### 步骤 7.4 现在该怎么办？\n我们目前的情况比起步时好不了多少。数据仍然非常分散，看起来信息量有限。\n\n但不必灰心！\n需要意识到两点：\n1) 数据似乎倾向于沿坐标轴分布（例如我们没有任何 Quantity = 50000 且 AvgPrice = 5 的数据点）。这可能暗示着某种趋势。\n2) 我们拥有更多数据！目前只查看了来自3个不同国家的数据，而且它们被绘制在不同的图表上。\n\n因此：我们应该不考虑`Country`（国家）因素来绘制数据，希望能看到一张不那么分散的图表。\n\n##### 步骤 7.4.1 将所有`CustomerID`的数据绘制在同一张图表上"
      ]
    },
    {
      "cell_type": "code",
      "execution_count": null,
      "metadata": {},
      "outputs": [],
      "source": []
    },
    {
      "cell_type": "markdown",
      "metadata": {},
      "source": [
        "##### 步骤 7.4.2 放大视图以便更清晰地观察该曲线"
      ]
    },
    {
      "cell_type": "code",
      "execution_count": null,
      "metadata": {},
      "outputs": [],
      "source": []
    },
    {
      "cell_type": "markdown",
      "metadata": {},
      "source": [
        "### 8. 绘制展示每单位价格（x轴）对应收入（y轴）的折线图\n\n第7步的分析是否给了我们一些数据洞见？当然！随着平均价格的上升，订购数量会下降。但这并不令人意外——如果情况相反那才奇怪呢！\n\n不过数量下降的幅度如此剧烈，这让我好奇我们的收入会如何随商品价格变化。如果收入变化不大倒也不奇怪，但了解大部分收入是来自高价商品还是低价商品会很有趣，以及这种关系具体呈现什么形态。\n\n这就是我们现在要探究的内容。\n\n#### 8.1 将`UnitPrice`按[0,50)价格区间以1为间隔分组，并汇总`Quantity`和`Revenue`"
      ]
    },
    {
      "cell_type": "code",
      "execution_count": null,
      "metadata": {},
      "outputs": [],
      "source": []
    },
    {
      "cell_type": "markdown",
      "metadata": {},
      "source": [
        "#### 8.3 Plot."
      ]
    },
    {
      "cell_type": "code",
      "execution_count": null,
      "metadata": {},
      "outputs": [],
      "source": []
    },
    {
      "cell_type": "markdown",
      "metadata": {},
      "source": [
        "#### 8.4 让图表更美观\nx轴需要添加数值刻度。  \ny轴目前不够直观；建议以百万为单位显示数据。"
      ]
    },
    {
      "cell_type": "code",
      "execution_count": null,
      "metadata": {},
      "outputs": [],
      "source": []
    },
    {
      "cell_type": "markdown",
      "metadata": {},
      "source": [
        "### 附加题：自创问题并解答"
      ]
    },
    {
      "cell_type": "code",
      "execution_count": null,
      "metadata": {},
      "outputs": [],
      "source": []
    }
  ],
  "metadata": {
    "kernelspec": {
      "display_name": "Python 3",
      "language": "python",
      "name": "python3"
    },
    "language_info": {
      "codemirror_mode": {
        "name": "ipython",
        "version": 3
      },
      "file_extension": ".py",
      "mimetype": "text/x-python",
      "name": "python",
      "nbconvert_exporter": "python",
      "pygments_lexer": "ipython3",
      "version": "3.7.0"
    }
  },
  "nbformat": 4,
  "nbformat_minor": 1
}