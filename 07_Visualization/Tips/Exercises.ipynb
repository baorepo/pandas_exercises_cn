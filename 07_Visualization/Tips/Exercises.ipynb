{
  "cells": [
    {
      "cell_type": "markdown",
      "metadata": {},
      "source": [
        "# Tips"
      ]
    },
    {
      "cell_type": "markdown",
      "metadata": {},
      "source": [
        "### 简介：\n\n本练习基于[Seaborn](https://stanford.edu/~mwaskom/software/seaborn/index.html)的教程和文档创建  \n所使用的数据集是Seaborn中的小费数据集(tips)。\n\n### 第一步. 导入必要的库："
      ]
    },
    {
      "cell_type": "code",
      "execution_count": null,
      "metadata": {},
      "outputs": [],
      "source": []
    },
    {
      "cell_type": "markdown",
      "metadata": {},
      "source": [
        "### 步骤 2. 从该[地址](https://raw.githubusercontent.com/guipsamora/pandas_exercises/master/07_Visualization/Tips/tips.csv)导入数据集。"
      ]
    },
    {
      "cell_type": "markdown",
      "metadata": {},
      "source": [
        "### 步骤3. 将其赋值给名为tips的变量"
      ]
    },
    {
      "cell_type": "code",
      "execution_count": null,
      "metadata": {},
      "outputs": [],
      "source": []
    },
    {
      "cell_type": "markdown",
      "metadata": {},
      "source": [
        "### 步骤4. 删除未命名（Unnamed 0）列"
      ]
    },
    {
      "cell_type": "code",
      "execution_count": null,
      "metadata": {},
      "outputs": [],
      "source": []
    },
    {
      "cell_type": "markdown",
      "metadata": {},
      "source": [
        "### 步骤5. 绘制total_bill列的直方图"
      ]
    },
    {
      "cell_type": "code",
      "execution_count": null,
      "metadata": {},
      "outputs": [],
      "source": []
    },
    {
      "cell_type": "markdown",
      "metadata": {},
      "source": [
        "### 步骤6. 创建展示总账单与小费关系的散点图"
      ]
    },
    {
      "cell_type": "code",
      "execution_count": null,
      "metadata": {},
      "outputs": [],
      "source": []
    },
    {
      "cell_type": "markdown",
      "metadata": {},
      "source": [
        "### 步骤7. 创建一张展示total_bill（总消费金额）、tip（小费）与size（用餐人数）关系的图表\n#### 提示：仅需使用一个函数即可完成"
      ]
    },
    {
      "cell_type": "code",
      "execution_count": null,
      "metadata": {},
      "outputs": [],
      "source": []
    },
    {
      "cell_type": "markdown",
      "metadata": {},
      "source": [
        "### 步骤8. 展示天数与总消费金额（total_bill）之间的关系"
      ]
    },
    {
      "cell_type": "code",
      "execution_count": null,
      "metadata": {},
      "outputs": [],
      "source": []
    },
    {
      "cell_type": "markdown",
      "metadata": {},
      "source": [
        "### 步骤9. 创建一个散点图，以天数为y轴，小费为x轴，并通过性别区分数据点\n\n（说明：此处保持Markdown标题格式不变，将英文操作说明准确翻译为中文。其中\"scatter plot\"译为\"散点图\"，\"y-axis/x-axis\"采用中文技术文档常见译法\"y轴/x轴\"，\"dots by sex\"意译为\"通过性别区分数据点\"以符合中文表达习惯。技术术语首次出现时未保留英文，因\"散点图\"等术语在中文数据可视化领域已形成标准译法。）"
      ]
    },
    {
      "cell_type": "code",
      "execution_count": null,
      "metadata": {},
      "outputs": [],
      "source": []
    },
    {
      "cell_type": "markdown",
      "metadata": {},
      "source": [
        "### 步骤 10. 创建箱线图展示每日总消费金额（total_bill）在不同用餐时段（晚餐Dinner或午餐Lunch）的分布差异"
      ]
    },
    {
      "cell_type": "code",
      "execution_count": null,
      "metadata": {},
      "outputs": [],
      "source": []
    },
    {
      "cell_type": "markdown",
      "metadata": {},
      "source": [
        "### 步骤11. 基于午餐和晚餐的小费金额创建两个并排显示的直方图"
      ]
    },
    {
      "cell_type": "code",
      "execution_count": null,
      "metadata": {},
      "outputs": [],
      "source": []
    },
    {
      "cell_type": "markdown",
      "metadata": {},
      "source": [
        "### 步骤12. 创建两个散点图，分别展示男性和女性的total_bill（总账单）值与tip（小费）的关系，并通过不同颜色区分吸烟者与非吸烟者  \n### 要求两个图表并排显示  \n\n（说明：翻译时进行了以下处理：\n1. 将\"scatterplots graphs\"译为专业术语\"散点图\"\n2. 保留了原始变量名\"total_bill\"和\"tip\"，符合技术文档惯例\n3. \"differing by smoker or no smoker\"意译为\"通过不同颜色区分吸烟者与非吸烟者\"，更符合数据可视化场景的表达\n4. \"side by side\"译为\"并排显示\"，准确传达布局要求\n5. 保持了Markdown标题层级和排版格式）"
      ]
    },
    {
      "cell_type": "code",
      "execution_count": null,
      "metadata": {},
      "outputs": [],
      "source": []
    },
    {
      "cell_type": "markdown",
      "metadata": {},
      "source": [
        "### 附加题：自拟问题并用图表解答"
      ]
    },
    {
      "cell_type": "code",
      "execution_count": null,
      "metadata": {
        "collapsed": true
      },
      "outputs": [],
      "source": []
    }
  ],
  "metadata": {
    "anaconda-cloud": {},
    "kernelspec": {
      "display_name": "Python 3",
      "language": "python",
      "name": "python3"
    },
    "language_info": {
      "codemirror_mode": {
        "name": "ipython",
        "version": 3
      },
      "file_extension": ".py",
      "mimetype": "text/x-python",
      "name": "python",
      "nbconvert_exporter": "python",
      "pygments_lexer": "ipython3",
      "version": "3.7.0"
    }
  },
  "nbformat": 4,
  "nbformat_minor": 1
}