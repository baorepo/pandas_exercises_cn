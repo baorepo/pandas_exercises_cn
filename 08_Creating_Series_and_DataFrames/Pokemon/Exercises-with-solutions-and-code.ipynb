{
  "cells": [
    {
      "cell_type": "markdown",
      "metadata": {},
      "source": [
        "# Pokemon"
      ]
    },
    {
      "cell_type": "markdown",
      "metadata": {},
      "source": [
        "### 简介：\n\n本次任务你将创建数据。\n\n### 第一步：导入必要的库"
      ]
    },
    {
      "cell_type": "code",
      "execution_count": 2,
      "metadata": {
        "collapsed": false
      },
      "outputs": [],
      "source": [
        "import pandas as pd"
      ]
    },
    {
      "cell_type": "markdown",
      "metadata": {},
      "source": [
        "### 步骤2. 创建数据字典（data dictionary）"
      ]
    },
    {
      "cell_type": "code",
      "execution_count": 3,
      "metadata": {
        "collapsed": true
      },
      "outputs": [],
      "source": [
        "raw_data = {\"name\": ['Bulbasaur', 'Charmander','Squirtle','Caterpie'],\n",
        "            \"evolution\": ['Ivysaur','Charmeleon','Wartortle','Metapod'],\n",
        "            \"type\": ['grass', 'fire', 'water', 'bug'],\n",
        "            \"hp\": [45, 39, 44, 45],\n",
        "            \"pokedex\": ['yes', 'no','yes','no']                        \n",
        "            }"
      ]
    },
    {
      "cell_type": "markdown",
      "metadata": {},
      "source": [
        "### 步骤3. 将其赋值给名为pokemon的变量"
      ]
    },
    {
      "cell_type": "code",
      "execution_count": 5,
      "metadata": {
        "collapsed": false
      },
      "outputs": [
        {
          "data": {
            "text/html": [
              "<div>\n",
              "<table border=\"1\" class=\"dataframe\">\n",
              "  <thead>\n",
              "    <tr style=\"text-align: right;\">\n",
              "      <th></th>\n",
              "      <th>evolution</th>\n",
              "      <th>hp</th>\n",
              "      <th>name</th>\n",
              "      <th>pokedex</th>\n",
              "      <th>type</th>\n",
              "    </tr>\n",
              "  </thead>\n",
              "  <tbody>\n",
              "    <tr>\n",
              "      <th>0</th>\n",
              "      <td>Ivysaur</td>\n",
              "      <td>45</td>\n",
              "      <td>Bulbasaur</td>\n",
              "      <td>yes</td>\n",
              "      <td>grass</td>\n",
              "    </tr>\n",
              "    <tr>\n",
              "      <th>1</th>\n",
              "      <td>Charmeleon</td>\n",
              "      <td>39</td>\n",
              "      <td>Charmander</td>\n",
              "      <td>no</td>\n",
              "      <td>fire</td>\n",
              "    </tr>\n",
              "    <tr>\n",
              "      <th>2</th>\n",
              "      <td>Wartortle</td>\n",
              "      <td>44</td>\n",
              "      <td>Squirtle</td>\n",
              "      <td>yes</td>\n",
              "      <td>water</td>\n",
              "    </tr>\n",
              "    <tr>\n",
              "      <th>3</th>\n",
              "      <td>Metapod</td>\n",
              "      <td>45</td>\n",
              "      <td>Caterpie</td>\n",
              "      <td>no</td>\n",
              "      <td>bug</td>\n",
              "    </tr>\n",
              "  </tbody>\n",
              "</table>\n",
              "</div>"
            ],
            "text/plain": [
              "    evolution  hp        name pokedex   type\n",
              "0     Ivysaur  45   Bulbasaur     yes  grass\n",
              "1  Charmeleon  39  Charmander      no   fire\n",
              "2   Wartortle  44    Squirtle     yes  water\n",
              "3     Metapod  45    Caterpie      no    bug"
            ]
          },
          "execution_count": 5,
          "metadata": {},
          "output_type": "execute_result"
        }
      ],
      "source": [
        "pokemon = pd.DataFrame(raw_data)\n",
        "pokemon.head()"
      ]
    },
    {
      "cell_type": "markdown",
      "metadata": {},
      "source": [
        "### 步骤4. 哎呀...看起来DataFrame的列是按字母顺序排列的。请将列的顺序调整为：name（名称）、type（类型）、hp（生命值）、evolution（进化阶段）、pokedex（图鉴编号）"
      ]
    },
    {
      "cell_type": "code",
      "execution_count": 8,
      "metadata": {
        "collapsed": false
      },
      "outputs": [
        {
          "data": {
            "text/html": [
              "<div>\n",
              "<table border=\"1\" class=\"dataframe\">\n",
              "  <thead>\n",
              "    <tr style=\"text-align: right;\">\n",
              "      <th></th>\n",
              "      <th>name</th>\n",
              "      <th>type</th>\n",
              "      <th>hp</th>\n",
              "      <th>evolution</th>\n",
              "      <th>pokedex</th>\n",
              "    </tr>\n",
              "  </thead>\n",
              "  <tbody>\n",
              "    <tr>\n",
              "      <th>0</th>\n",
              "      <td>Bulbasaur</td>\n",
              "      <td>grass</td>\n",
              "      <td>45</td>\n",
              "      <td>Ivysaur</td>\n",
              "      <td>yes</td>\n",
              "    </tr>\n",
              "    <tr>\n",
              "      <th>1</th>\n",
              "      <td>Charmander</td>\n",
              "      <td>fire</td>\n",
              "      <td>39</td>\n",
              "      <td>Charmeleon</td>\n",
              "      <td>no</td>\n",
              "    </tr>\n",
              "    <tr>\n",
              "      <th>2</th>\n",
              "      <td>Squirtle</td>\n",
              "      <td>water</td>\n",
              "      <td>44</td>\n",
              "      <td>Wartortle</td>\n",
              "      <td>yes</td>\n",
              "    </tr>\n",
              "    <tr>\n",
              "      <th>3</th>\n",
              "      <td>Caterpie</td>\n",
              "      <td>bug</td>\n",
              "      <td>45</td>\n",
              "      <td>Metapod</td>\n",
              "      <td>no</td>\n",
              "    </tr>\n",
              "  </tbody>\n",
              "</table>\n",
              "</div>"
            ],
            "text/plain": [
              "         name   type  hp   evolution pokedex\n",
              "0   Bulbasaur  grass  45     Ivysaur     yes\n",
              "1  Charmander   fire  39  Charmeleon      no\n",
              "2    Squirtle  water  44   Wartortle     yes\n",
              "3    Caterpie    bug  45     Metapod      no"
            ]
          },
          "execution_count": 8,
          "metadata": {},
          "output_type": "execute_result"
        }
      ],
      "source": [
        "pokemon = pokemon[['name', 'type', 'hp', 'evolution','pokedex']]\n",
        "pokemon"
      ]
    },
    {
      "cell_type": "markdown",
      "metadata": {},
      "source": [
        "### 步骤5. 添加一个名为place的列，并填入你想到的内容\n\n（说明：翻译时做了以下处理：\n1. \"Step 5\" 译为\"步骤5\"，符合中文技术文档的编号习惯\n2. \"column\" 译为\"列\"，这是数据库/表格的标准译法\n3. \"called\" 译为\"名为\"，更符合中文表达\n4. \"insert what you have in mind\" 意译为\"填入你想到的内容\"，比直译\"插入你脑海中的东西\"更自然\n5. 保留了Markdown的标题格式不变）"
      ]
    },
    {
      "cell_type": "code",
      "execution_count": 13,
      "metadata": {
        "collapsed": false
      },
      "outputs": [
        {
          "data": {
            "text/html": [
              "<div>\n",
              "<table border=\"1\" class=\"dataframe\">\n",
              "  <thead>\n",
              "    <tr style=\"text-align: right;\">\n",
              "      <th></th>\n",
              "      <th>name</th>\n",
              "      <th>type</th>\n",
              "      <th>hp</th>\n",
              "      <th>evolution</th>\n",
              "      <th>pokedex</th>\n",
              "      <th>place</th>\n",
              "    </tr>\n",
              "  </thead>\n",
              "  <tbody>\n",
              "    <tr>\n",
              "      <th>0</th>\n",
              "      <td>Bulbasaur</td>\n",
              "      <td>grass</td>\n",
              "      <td>45</td>\n",
              "      <td>Ivysaur</td>\n",
              "      <td>yes</td>\n",
              "      <td>park</td>\n",
              "    </tr>\n",
              "    <tr>\n",
              "      <th>1</th>\n",
              "      <td>Charmander</td>\n",
              "      <td>fire</td>\n",
              "      <td>39</td>\n",
              "      <td>Charmeleon</td>\n",
              "      <td>no</td>\n",
              "      <td>street</td>\n",
              "    </tr>\n",
              "    <tr>\n",
              "      <th>2</th>\n",
              "      <td>Squirtle</td>\n",
              "      <td>water</td>\n",
              "      <td>44</td>\n",
              "      <td>Wartortle</td>\n",
              "      <td>yes</td>\n",
              "      <td>lake</td>\n",
              "    </tr>\n",
              "    <tr>\n",
              "      <th>3</th>\n",
              "      <td>Caterpie</td>\n",
              "      <td>bug</td>\n",
              "      <td>45</td>\n",
              "      <td>Metapod</td>\n",
              "      <td>no</td>\n",
              "      <td>forest</td>\n",
              "    </tr>\n",
              "  </tbody>\n",
              "</table>\n",
              "</div>"
            ],
            "text/plain": [
              "         name   type  hp   evolution pokedex   place\n",
              "0   Bulbasaur  grass  45     Ivysaur     yes    park\n",
              "1  Charmander   fire  39  Charmeleon      no  street\n",
              "2    Squirtle  water  44   Wartortle     yes    lake\n",
              "3    Caterpie    bug  45     Metapod      no  forest"
            ]
          },
          "execution_count": 13,
          "metadata": {},
          "output_type": "execute_result"
        }
      ],
      "source": [
        "pokemon['place'] = ['park','street','lake','forest']\n",
        "pokemon"
      ]
    },
    {
      "cell_type": "markdown",
      "metadata": {},
      "source": [
        "### 步骤6. 展示每列的数据类型"
      ]
    },
    {
      "cell_type": "code",
      "execution_count": 9,
      "metadata": {
        "collapsed": false
      },
      "outputs": [
        {
          "data": {
            "text/plain": [
              "name         object\n",
              "type         object\n",
              "hp            int64\n",
              "evolution    object\n",
              "pokedex      object\n",
              "dtype: object"
            ]
          },
          "execution_count": 9,
          "metadata": {},
          "output_type": "execute_result"
        }
      ],
      "source": [
        "pokemon.dtypes"
      ]
    },
    {
      "cell_type": "markdown",
      "metadata": {},
      "source": [
        "### 附加题：自拟问题并作答"
      ]
    },
    {
      "cell_type": "code",
      "execution_count": null,
      "metadata": {
        "collapsed": true
      },
      "outputs": [],
      "source": []
    }
  ],
  "metadata": {
    "kernelspec": {
      "display_name": "Python 2",
      "language": "python",
      "name": "python2"
    },
    "language_info": {
      "codemirror_mode": {
        "name": "ipython",
        "version": 2
      },
      "file_extension": ".py",
      "mimetype": "text/x-python",
      "name": "python",
      "nbconvert_exporter": "python",
      "pygments_lexer": "ipython2",
      "version": "2.7.11"
    }
  },
  "nbformat": 4,
  "nbformat_minor": 0
}