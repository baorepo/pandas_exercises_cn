{
  "cells": [
    {
      "cell_type": "markdown",
      "metadata": {},
      "source": [
        "# Wind Statistics"
      ]
    },
    {
      "cell_type": "markdown",
      "metadata": {},
      "source": [
        "### 简介：\n\n数据已被修改，包含了一些缺失值，用NaN标识。  \n使用pandas库会让这个练习更容易完成，特别是对于附加题部分。\n\n你应该能够在不使用for循环或其他循环结构的情况下完成以下所有操作。\n\n1. 'wind.data'文件中的数据格式如下："
      ]
    },
    {
      "cell_type": "code",
      "execution_count": 434,
      "metadata": {
        "collapsed": false
      },
      "outputs": [
        {
          "data": {
            "text/plain": [
              "'\\nYr Mo Dy   RPT   VAL   ROS   KIL   SHA   BIR   DUB   CLA   MUL   CLO   BEL   MAL\\n61  1  1 15.04 14.96 13.17  9.29   NaN  9.87 13.67 10.25 10.83 12.58 18.50 15.04\\n61  1  2 14.71   NaN 10.83  6.50 12.62  7.67 11.50 10.04  9.79  9.67 17.54 13.83\\n61  1  3 18.50 16.88 12.33 10.13 11.17  6.17 11.25   NaN  8.50  7.67 12.75 12.71\\n'"
            ]
          },
          "execution_count": 434,
          "metadata": {},
          "output_type": "execute_result"
        }
      ],
      "source": [
        "\"\"\"\n",
        "Yr Mo Dy   RPT   VAL   ROS   KIL   SHA   BIR   DUB   CLA   MUL   CLO   BEL   MAL\n",
        "61  1  1 15.04 14.96 13.17  9.29   NaN  9.87 13.67 10.25 10.83 12.58 18.50 15.04\n",
        "61  1  2 14.71   NaN 10.83  6.50 12.62  7.67 11.50 10.04  9.79  9.67 17.54 13.83\n",
        "61  1  3 18.50 16.88 12.33 10.13 11.17  6.17 11.25   NaN  8.50  7.67 12.75 12.71\n",
        "\"\"\""
      ]
    },
    {
      "cell_type": "markdown",
      "metadata": {},
      "source": [
        "前三列分别是年、月和日。剩下的12列是当天爱尔兰12个地点的平均风速（单位：节）。  \n\n关于该数据集的更多信息请参见[此处](wind.desc)。"
      ]
    },
    {
      "cell_type": "markdown",
      "metadata": {
        "collapsed": false
      },
      "source": [
        "### 步骤 1. 导入必要的库"
      ]
    },
    {
      "cell_type": "code",
      "execution_count": null,
      "metadata": {
        "collapsed": false
      },
      "outputs": [],
      "source": []
    },
    {
      "cell_type": "markdown",
      "metadata": {},
      "source": [
        "### 步骤 2. 从该[地址](https://raw.githubusercontent.com/guipsamora/pandas_exercises/master/06_Stats/Wind_Stats/wind.data)导入数据集"
      ]
    },
    {
      "cell_type": "markdown",
      "metadata": {},
      "source": [
        "### 步骤3. 将其赋值给名为data的变量，并用适当的日期时间索引替换前3列\n\n（说明：翻译时保持了Markdown标题格式，专业术语\"datetime index\"采用直译为\"日期时间索引\"，变量名\"data\"保留英文原样。整体句式根据中文表达习惯进行了调整，将被动语态\"be replaced by\"转换为主动表述\"用...替换\"，使译文更符合技术文档的简洁风格。）"
      ]
    },
    {
      "cell_type": "code",
      "execution_count": null,
      "metadata": {
        "collapsed": false
      },
      "outputs": [],
      "source": []
    },
    {
      "cell_type": "markdown",
      "metadata": {},
      "source": [
        "### 步骤4. 2061年？我们真的有这一年的数据吗？创建一个函数来修正这个问题并应用它。\n\n（说明：翻译时保持了Markdown标题格式###，将英文疑问句转换为符合中文表达习惯的反问句式，同时确保技术术语\"function/函数\"的准确对应。最后半句采用中文常见的动宾结构\"创建...并应用\"，使技术操作描述更自然流畅。）"
      ]
    },
    {
      "cell_type": "code",
      "execution_count": null,
      "metadata": {
        "collapsed": false
      },
      "outputs": [],
      "source": []
    },
    {
      "cell_type": "markdown",
      "metadata": {},
      "source": [
        "### 步骤5. 将正确的日期设置为索引。注意数据类型应为datetime64[ns]。"
      ]
    },
    {
      "cell_type": "code",
      "execution_count": null,
      "metadata": {
        "collapsed": false
      },
      "outputs": [],
      "source": []
    },
    {
      "cell_type": "markdown",
      "metadata": {},
      "source": [
        "### 步骤6. 计算每个位置在整个记录中有多少缺失值  \n#### 在后续所有计算中应忽略这些缺失值。  \n\n（说明：保持Markdown标题层级不变，将\"Step\"译为\"步骤\"，\"Compute\"译为\"计算\"，\"missing\"译为\"缺失值\"，\"entire record\"译为\"整个记录\"，\"ignored\"译为\"忽略\"，\"calculations below\"译为\"后续所有计算\"。译文采用技术文档常见的简洁句式，符合中文技术文档表述习惯。）"
      ]
    },
    {
      "cell_type": "code",
      "execution_count": null,
      "metadata": {
        "collapsed": false
      },
      "outputs": [],
      "source": []
    },
    {
      "cell_type": "markdown",
      "metadata": {},
      "source": [
        "### 步骤7. 计算总共有多少个非缺失值"
      ]
    },
    {
      "cell_type": "code",
      "execution_count": null,
      "metadata": {
        "collapsed": false,
        "scrolled": true
      },
      "outputs": [],
      "source": []
    },
    {
      "cell_type": "markdown",
      "metadata": {},
      "source": [
        "### 步骤8. 计算所有地点和所有时间风速的平均值\n#### 为整个数据集生成一个单一数值"
      ]
    },
    {
      "cell_type": "code",
      "execution_count": null,
      "metadata": {
        "collapsed": false
      },
      "outputs": [],
      "source": []
    },
    {
      "cell_type": "markdown",
      "metadata": {},
      "source": [
        "### 步骤9. 创建一个名为loc_stats的DataFrame，并计算每个地点在所有天数内的风速最小值、最大值、平均值及标准差\n\n#### 每个地点对应一组不同的数值。"
      ]
    },
    {
      "cell_type": "code",
      "execution_count": null,
      "metadata": {
        "collapsed": false
      },
      "outputs": [],
      "source": []
    },
    {
      "cell_type": "markdown",
      "metadata": {},
      "source": [
        "### 步骤10. 创建一个名为day_stats的DataFrame，并计算每天所有位置风速的最小值、最大值、平均值以及风速的标准差。\n\n#### 每天对应一组不同的数值。"
      ]
    },
    {
      "cell_type": "code",
      "execution_count": null,
      "metadata": {
        "collapsed": false
      },
      "outputs": [],
      "source": []
    },
    {
      "cell_type": "markdown",
      "metadata": {},
      "source": [
        "### 步骤11. 计算每个地点一月份的平均风速  \n#### 将1961年1月和1962年1月均视为一月份数据"
      ]
    },
    {
      "cell_type": "code",
      "execution_count": null,
      "metadata": {
        "collapsed": false
      },
      "outputs": [],
      "source": []
    },
    {
      "cell_type": "markdown",
      "metadata": {},
      "source": [
        "### 步骤12. 对每个地点的记录进行降采样，转换为年度频率"
      ]
    },
    {
      "cell_type": "code",
      "execution_count": null,
      "metadata": {
        "collapsed": false
      },
      "outputs": [],
      "source": []
    },
    {
      "cell_type": "markdown",
      "metadata": {},
      "source": [
        "### 步骤13. 对每个地点的记录进行降采样，转换为月度频率。"
      ]
    },
    {
      "cell_type": "code",
      "execution_count": null,
      "metadata": {
        "collapsed": false
      },
      "outputs": [],
      "source": []
    },
    {
      "cell_type": "markdown",
      "metadata": {},
      "source": [
        "### 步骤14. 对每个地点的记录进行降采样，转换为周频数据。"
      ]
    },
    {
      "cell_type": "code",
      "execution_count": null,
      "metadata": {
        "collapsed": false
      },
      "outputs": [],
      "source": []
    },
    {
      "cell_type": "markdown",
      "metadata": {},
      "source": [
        "### 步骤15. 计算前52周每周（假设第一周从1961年1月2日开始）所有观测点的风速最小值、最大值、平均值及标准差。  \n\n（翻译说明：  \n1. 保留Markdown标题层级格式  \n2. \"windspeeds\"译为\"风速\"  \n3. \"min, max and mean\"采用中文技术文档常用表述\"最小值、最大值、平均值\"  \n4. \"standard deviations\"译为\"标准差\"  \n5. 时间描述\"January 2 1961\"按中文习惯调整为\"1961年1月2日\"  \n6. 补充\"观测点\"使\"all locations\"的指代更明确  \n7. 括号格式与原文保持一致）"
      ]
    },
    {
      "cell_type": "code",
      "execution_count": null,
      "metadata": {
        "collapsed": false
      },
      "outputs": [],
      "source": []
    }
  ],
  "metadata": {
    "anaconda-cloud": {},
    "kernelspec": {
      "display_name": "Python [default]",
      "language": "python",
      "name": "python2"
    },
    "language_info": {
      "codemirror_mode": {
        "name": "ipython",
        "version": 2
      },
      "file_extension": ".py",
      "mimetype": "text/x-python",
      "name": "python",
      "nbconvert_exporter": "python",
      "pygments_lexer": "ipython2",
      "version": "2.7.12"
    }
  },
  "nbformat": 4,
  "nbformat_minor": 0
}