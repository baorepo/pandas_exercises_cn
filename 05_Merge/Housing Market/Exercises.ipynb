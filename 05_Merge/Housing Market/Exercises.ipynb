{
  "cells": [
    {
      "cell_type": "markdown",
      "metadata": {},
      "source": [
        "# Housing Market"
      ]
    },
    {
      "cell_type": "markdown",
      "metadata": {},
      "source": [
        "### 简介：\n\n这次我们将用虚构的数字创建自己的数据集来描述一个房屋市场。由于我们将生成随机数据，所以不必深究这些数字的合理性。\n\n### 第一步：导入必要的库"
      ]
    },
    {
      "cell_type": "code",
      "execution_count": null,
      "metadata": {
        "collapsed": false
      },
      "outputs": [],
      "source": []
    },
    {
      "cell_type": "markdown",
      "metadata": {},
      "source": [
        "### 步骤 2. 创建3个不同的Series序列，每个长度均为100，具体要求如下：\n1. 第一个Series：生成1到4之间的随机数  \n2. 第二个Series：生成1到3之间的随机数  \n3. 第三个Series：生成10,000到30,000之间的随机数  \n\n（注：保留Markdown标题层级和列表格式，技术术语\"Series\"首次出现时保留英文并添加中文说明\"序列\"，数字范围和项目符号结构与原文一致）"
      ]
    },
    {
      "cell_type": "code",
      "execution_count": null,
      "metadata": {
        "collapsed": false
      },
      "outputs": [],
      "source": []
    },
    {
      "cell_type": "markdown",
      "metadata": {},
      "source": [
        "### 步骤 3. 通过列连接Series来创建DataFrame"
      ]
    },
    {
      "cell_type": "code",
      "execution_count": null,
      "metadata": {
        "collapsed": false
      },
      "outputs": [],
      "source": []
    },
    {
      "cell_type": "markdown",
      "metadata": {},
      "source": [
        "### 步骤4. 将列名更改为bedrs（卧室数量）、bathrs（卫生间数量）、price_sqr_meter（每平方米价格）"
      ]
    },
    {
      "cell_type": "code",
      "execution_count": null,
      "metadata": {
        "collapsed": false
      },
      "outputs": [],
      "source": []
    },
    {
      "cell_type": "markdown",
      "metadata": {},
      "source": [
        "### 步骤5. 创建一个包含3个Series值的单列DataFrame，并将其赋值给'bigcolumn'"
      ]
    },
    {
      "cell_type": "code",
      "execution_count": null,
      "metadata": {
        "collapsed": false
      },
      "outputs": [],
      "source": []
    },
    {
      "cell_type": "markdown",
      "metadata": {},
      "source": [
        "### 步骤6. 哎呀，看起来它只运行到索引99就停止了。是这样吗？  \n\n（说明：翻译时保留了原文的疑问语气和Markdown标题格式。\"Oops\"译为\"哎呀\"更符合中文口语表达，\"index\"作为专业术语首次出现时保留英文并添加中文注释\"索引\"）"
      ]
    },
    {
      "cell_type": "code",
      "execution_count": null,
      "metadata": {
        "collapsed": false
      },
      "outputs": [],
      "source": []
    },
    {
      "cell_type": "markdown",
      "metadata": {},
      "source": [
        "### 步骤7. 重新索引DataFrame使其从0到299排列\n\n（说明：此处保持Markdown标题格式不变，将英文操作说明准确翻译为中文。翻译要点：\n1. \"Reindex\"译为\"重新索引\"，是pandas操作的规范译法\n2. \"DataFrame\"作为专业术语保留不译\n3. \"goes from 0 to 299\"意译为\"从0到299排列\"，更符合中文表达习惯\n4. 保持编号\"Step 7\"与原文格式一致的\"步骤7\"）"
      ]
    },
    {
      "cell_type": "code",
      "execution_count": null,
      "metadata": {
        "collapsed": false
      },
      "outputs": [],
      "source": []
    }
  ],
  "metadata": {
    "kernelspec": {
      "display_name": "Python 2",
      "language": "python",
      "name": "python2"
    },
    "language_info": {
      "codemirror_mode": {
        "name": "ipython",
        "version": 2
      },
      "file_extension": ".py",
      "mimetype": "text/x-python",
      "name": "python",
      "nbconvert_exporter": "python",
      "pygments_lexer": "ipython2",
      "version": "2.7.11"
    }
  },
  "nbformat": 4,
  "nbformat_minor": 0
}